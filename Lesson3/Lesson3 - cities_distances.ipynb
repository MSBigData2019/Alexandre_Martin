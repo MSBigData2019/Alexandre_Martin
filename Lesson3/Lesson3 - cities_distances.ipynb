{
 "cells": [
  {
   "cell_type": "code",
   "execution_count": 11,
   "metadata": {},
   "outputs": [],
   "source": [
    "import requests\n",
    "from bs4 import BeautifulSoup\n",
    "import pandas as pd\n",
    "import json\n",
    "\n",
    "url = \"https://fr.wikipedia.org/wiki/Liste_des_communes_de_France_les_plus_peupl%C3%A9es\"\n",
    "\n",
    "page = requests.get(url)\n",
    "html = page.text\n",
    "soup = BeautifulSoup(html,\"html.parser\")\n",
    "\n",
    "cities = []\n",
    "table = soup.find('table').find_all('tr')\n",
    "#while len(cities)<50:\n",
    "for index in range(1, min(len(table),len(cities)+ 1)):\n",
    "    cities.append(table[index].find('a').getText())\n",
    "\n",
    "\n",
    "def distance_matrix(cities):\n",
    "    url = \"https://fr.distance24.org/route.json?stops={}|{}\"\n",
    "    df = pd.DataFrame(columns = cities,index = cities)\n",
    "    for city_A in cities:\n",
    "        distance = []\n",
    "        for city_B in cities:\n",
    "            res = requests.get(url.format(city_A, city_B))\n",
    "            reponse_object = json.loads(res.text)\n",
    "            dist.append(reponse_object[\"distances\"])\n",
    "        df.loc[city_A] = dist\n",
    "    return df\n",
    "   \n",
    "distance_matrix(cities)\n",
    "\n",
    "\n"
   ]
  }
 ],
 "metadata": {
  "kernelspec": {
   "display_name": "Python 3",
   "language": "python",
   "name": "python3"
  },
  "language_info": {
   "codemirror_mode": {
    "name": "ipython",
    "version": 3
   },
   "file_extension": ".py",
   "mimetype": "text/x-python",
   "name": "python",
   "nbconvert_exporter": "python",
   "pygments_lexer": "ipython3",
   "version": "3.6.5"
  }
 },
 "nbformat": 4,
 "nbformat_minor": 2
}
