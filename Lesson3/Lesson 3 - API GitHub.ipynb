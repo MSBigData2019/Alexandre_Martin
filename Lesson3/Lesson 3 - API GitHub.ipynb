{
 "cells": [
  {
   "cell_type": "code",
   "execution_count": 411,
   "metadata": {},
   "outputs": [],
   "source": [
    "import numpy as np\n",
    "import requests\n",
    "from bs4 import BeautifulSoup as soup\n",
    "import pandas as pd\n",
    "import json\n",
    "\n"
   ]
  },
  {
   "cell_type": "code",
   "execution_count": 412,
   "metadata": {},
   "outputs": [],
   "source": [
    "url = \"https://gist.github.com/paulmillr/2657075\"\n",
    "client = urlopen(url)\n",
    "\n",
    "page_soup = soup(client,'html.parser')\n",
    "top_contributor = []\n",
    "\n",
    "table = page_soup.find('table').find_all('tr')\n",
    "i=0\n",
    "while i < 256:\n",
    "    for index in range(1,len(table)):\n",
    "        contributor_pseudo = table[index].find('a').getText()\n",
    "        top_contributor.append(contributor_pseudo)\n",
    "        i+=1\n",
    "\n"
   ]
  },
  {
   "cell_type": "code",
   "execution_count": 413,
   "metadata": {},
   "outputs": [],
   "source": [
    "\n",
    "user_id = 'amartin211'\n",
    "token = '2bbf7a4e27fccb7e2fe744987acaf46597aa1506'\n",
    "for contributor in top_contributor:\n",
    "    url = \"https://api.github.com/users/\" + contributor  + \"/repos\"\n",
    "    res = requests.get(url, auth = (user_id,token))\n",
    "    res_object = json.loads(res.text)\n"
   ]
  },
  {
   "cell_type": "code",
   "execution_count": 416,
   "metadata": {},
   "outputs": [
    {
     "name": "stdout",
     "output_type": "stream",
     "text": [
      "['j2kun' 'vladikoff' 'rakyll' 'suissa' 'michalbe' 'JakeWharton'\n",
      " 'paulmillr' 'joshaber' 'tmm1' 'anishathalye' 'brianleroux' 'bkeepers'\n",
      " 'junyanz' 'bnoordhuis' 'dominictarr' 'yyx990803' 'isaacs' 'zcbenz'\n",
      " 'vinta' 'kytrinyx' 'jessfraz' 'nicolasgramlich' 'alexjlockwood'\n",
      " 'eduardolundgren' 'afc163' 'bevacqua' 'Draveness' 'codahale' 'soumith'\n",
      " 'mattn' 'nfultz' 'jdalton' 'jaredhanson' 'mafintosh' 'technoweenie'\n",
      " 'rnystrom' 'brunocvcunha' 'unicodeveloper' 'rstacruz' 'bailicangdu'\n",
      " 'ruanyf' 'xudafeng' 'feross' 'kamranahmedse' 'dougwilson' 'ded' 'leah'\n",
      " 'sevilayha' 'amitshekhariitbhu' 'ebidel' 'IgorMinar' 'wesm' 'tmcw'\n",
      " 'jskeet' 'jonathanong' 'vhf' 'winterbe' 'arunoda' 'tomchristie' 'ankane'\n",
      " 'kylef' 'jamesmontemagno' 'hadley' 'andrew' 'tj' 'jaywcjlove'\n",
      " 'siddontang' 'yeasy' 'orta' 'dlew' 'contra' 'IanLunn' 'joyeecheung'\n",
      " 'miyagawa' 'samuelclay' 'sebastianbergmann' 'Shougo' 'alexcrichton'\n",
      " 'stof' 'kentcdodds' 'dsyer' 'odersky' 'atian25' '0x00A' 'alanhamlett'\n",
      " 'gdi2290' 'AdamBien' 'fzaninotto' 'davidtmiller' 'jiyinyiyong'\n",
      " 'josephmisiti' 'phuslu' 'ahmetb' 'CamDavidsonPilon' 'mjhea0' 'marijnh'\n",
      " 'ianstormtaylor' 'mitchellh' 'mikepenz' 'muan' 'nelsonic' 'mhevery'\n",
      " 'domenic' 'adamwathan' 'yihui' 'ashfurrow' 'i5ting' 'leebyron' 'evanphx'\n",
      " 'weierophinney' 'onevcat' 'toddmotto' 'Seldaek' 'zenorocha' 'yegor256'\n",
      " 'kbrsh' 'Caged' 'happypeter' 'steipete' 'gorhill' 'dcramer' 'passy' 'ai'\n",
      " 'drakeet' 'thejameskyle' 'dmalan' 'matyhtf' 'killme2008' 'StephenGrider'\n",
      " 'Raynos' 'mrdoob' 'josegonzalez' 'notwaldorf' 'curran' 'rauchg' 'soffes'\n",
      " 'taylorotwell' 'mxstbr' 'Jinjiang' 'benoitc' 'Rich-Harris' 'djspiewak'\n",
      " 'weavejester' 'daylerees' 'ask' 'JohnSundell' 'benjamn' 'carpedm20'\n",
      " 'brentvatne' 'jgm' 'jverkoey' 'geerlingguy' 'appleboy' 'egoist' 'phodal'\n",
      " 'overtrue' 'connors' 'hzoo' 'josevalim' 'jennybc' 'BurntSushi'\n",
      " 'arun-gupta' 'steveklabnik' 'mitsuhiko' 'paulirish' 'paulcbetts'\n",
      " 'be5invis' 'mikermcneil' 'jwiegley' 'benbalter' 'ayende' 'amueller'\n",
      " 'maryrosecook' 'dennybritz' 'chjj' 'eliben' 'keijiro' 'nolimits4web'\n",
      " 'jxnblk' 'gitster' 'binux' 'rafaelfranca' 'drnic' 'bebraw' 'philsturgeon'\n",
      " 'oldratlee' 'HugoGiraudel' 'Unknwon' 'remy' 'GrahamCampbell' 'dead-horse'\n",
      " 'ornicar' 'zce' 'nikic' 'SamyPesse' 'shama' 'yoshuawuyts' 'Ocramius'\n",
      " 'radar' 'davidfowl' 'biezhi' 'gaearon' 'LeaVerou' 'sokra' 'vczh'\n",
      " 'madskristensen' 'mdo' 'ljharb' 'samdark' 'mcollina' 'mariotaku'\n",
      " 'evilsocket' 'chenglou' 'DataTables' 'photonstorm' 'simurai' 'shiffman'\n",
      " 'purcell' 'KrauseFx' 'alex' 'Haacked' 'krzysztofzablocki' 'stefanpenner'\n",
      " 'vjeux' 'rtomayko' 'mxcl' 'willdurand' 'pissang' 'matsko' 'ericelliott'\n",
      " 'f' 'developit' 'sdiehl' 'nvie' 'laanwj' 'pkrumins' 'staltz' 'KittenYang'\n",
      " 'olivergierke' 'fengmk2' 'indutny' 'jendewalt' 'avelino' 'mrmrs' 'c9s'\n",
      " 'holman' 'kevinsawicki' 'buckyroberts' 'atmos' 'STRML' 'mgechev'\n",
      " 'EisenbergEffect' 'kennethreitz' 'ashleygwilliams' 'agentzh' 'fabpot']\n"
     ]
    }
   ],
   "source": [
    "contrib_star = []\n",
    "i = 0\n",
    "while i<256:\n",
    "    for res in res_object:\n",
    "        star = res['stargazers_count']\n",
    "        mean_star =  star/len(res_object)\n",
    "        contrib_star.append(-1*mean_star)\n",
    "        i+=1\n",
    "best_index = np.argsort(np.array(contrib_star)[:256])\n",
    "ranking = np.array(top_contributor)[best_index]\n",
    "print(ranking)\n"
   ]
  }
 ],
 "metadata": {
  "kernelspec": {
   "display_name": "Python 3",
   "language": "python",
   "name": "python3"
  },
  "language_info": {
   "codemirror_mode": {
    "name": "ipython",
    "version": 3
   },
   "file_extension": ".py",
   "mimetype": "text/x-python",
   "name": "python",
   "nbconvert_exporter": "python",
   "pygments_lexer": "ipython3",
   "version": "3.6.5"
  }
 },
 "nbformat": 4,
 "nbformat_minor": 2
}
