{
 "cells": [
  {
   "cell_type": "code",
   "execution_count": 10,
   "metadata": {},
   "outputs": [],
   "source": [
    "import requests\n",
    "from bs4 import BeautifulSoup\n",
    "\n",
    "url_prefix = \"https://www.darty.com/nav/recherche?s=relevence&text=\"\n",
    "\n",
    "page = requests.get(url_prefix)\n",
    "html = page.text\n",
    "soup = BeautifulSoup(html,\"html.parser\")\n",
    "soup\n",
    "\n",
    "def get_all_discount_sales(computer, page):\n",
    "    url = url_prefix + computer + \"&o=\" + str(page * 20)\n",
    "    discount_sales = soup.find_all(\"p\", class_ = \"darty_prix_barre_remise\")\n",
    "    return len(discount_sales)\n",
    "\n",
    "def discount():\n",
    "    computer_list = [\"acer.html\", \"dell.html\"]\n",
    "    for computer in computer_list:\n",
    "        discount_sales = 0\n",
    "        for i in range(1, 5):\n",
    "            discount_sales = discount_sales + get_all_discount_sales(computer, i)\n",
    "        print(\"Nombre d article soldés pour {} = {}\".format(computer, discount_sales))\n",
    "discount()"
   ]
  }
 ],
 "metadata": {
  "kernelspec": {
   "display_name": "Python 3",
   "language": "python",
   "name": "python3"
  },
  "language_info": {
   "codemirror_mode": {
    "name": "ipython",
    "version": 3
   },
   "file_extension": ".py",
   "mimetype": "text/x-python",
   "name": "python",
   "nbconvert_exporter": "python",
   "pygments_lexer": "ipython3",
   "version": "3.6.5"
  }
 },
 "nbformat": 4,
 "nbformat_minor": 2
}
