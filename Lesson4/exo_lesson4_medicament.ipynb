{
 "cells": [
  {
   "cell_type": "code",
   "execution_count": 4,
   "metadata": {},
   "outputs": [],
   "source": [
    "import requests\n",
    "from bs4 import BeautifulSoup\n",
    "import pandas as pd\n",
    "import json\n",
    "import re\n",
    "import numpy as np\n",
    "\n",
    "url = \"https://www.open-medicaments.fr/api/v1/medicaments?query={}\"\n",
    "\n",
    "medicament = \"paracetamol\"\n",
    "\n",
    "url = url.format(medicament)\n",
    "res = requests.get(url)\n",
    "df = pd.read_json(res.content)\n",
    "regex = r'(\\D)*(\\d+)(.*),([\\w\\s]*)'\n",
    "df = df[\"denomination\"].str.extract(regex)\n",
    "df[\"equivalence\"] = 1000\n",
    "df[\"equivalence\"] = df[\"equivalence\"].where(df[2].str.strip() == \"g\", 1)\n",
    "df['ml_dose'] = df[1].fillna(0).astype(int)*df[\"equivalence\"]\n",
    "\n",
    "df\n"
   ]
  }
 ],
 "metadata": {
  "kernelspec": {
   "display_name": "Python 3",
   "language": "python",
   "name": "python3"
  },
  "language_info": {
   "codemirror_mode": {
    "name": "ipython",
    "version": 3
   },
   "file_extension": ".py",
   "mimetype": "text/x-python",
   "name": "python",
   "nbconvert_exporter": "python",
   "pygments_lexer": "ipython3",
   "version": "3.6.5"
  }
 },
 "nbformat": 4,
 "nbformat_minor": 2
}
