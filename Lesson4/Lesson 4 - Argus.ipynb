{
 "cells": [
  {
   "cell_type": "code",
   "execution_count": 5,
   "metadata": {},
   "outputs": [],
   "source": [
    "from bs4 import BeautifulSoup as bsoup\n",
    "from urllib.request import urlopen \n",
    "import pandas as pd \n",
    "import re\n",
    "import requests\n",
    "\n",
    "# setting lists for variables of interest\n",
    "version = []\n",
    "make = []\n",
    "model =[]\n",
    "Year = []\n",
    "Mile = []\n",
    "Price = []\n",
    "Seller_type = []\n",
    "\n",
    "mydf = pd.DataFrame()\n",
    "\n",
    "for page in range(1,20):\n",
    "    url = 'https://www.lacentrale.fr/listing?makesModelsCommercialNames=RENAULT%3AZOE&options=&page='+str(page)+'&regions=FR-IDF'\n",
    "    client = urlopen(url)\n",
    "    page_client = client.read()\n",
    "    \n",
    "\n",
    "    page_soup = bsoup(page_client,'html.parser')\n",
    "    containers = page_soup.findAll('div',attrs={'class','contour'})\n",
    "\n",
    "    for container in containers:\n",
    "    \n",
    "        cont_version = container.div.img['alt']\n",
    "        version.append(cont_version[12:]) # intense\n",
    "    \n",
    "    \n",
    "        cont_brand =container.find('span',attrs={'class','brandModel txtGrey3'})\n",
    "        make.append(cont_brand.text[:7]) \n",
    "        model.append(cont_brand.text[8:]) \n",
    "    \n",
    "        cont_year = container.findAll('div',attrs={'class','fieldYear'})\n",
    "        year = cont_year[0].text\n",
    "        Year.append(year)\n",
    "    \n",
    "    \n",
    "        cont_mileage = container.findAll('div',attrs={'class','fieldMileage'})\n",
    "        mile = cont_mileage[0].text\n",
    "        mileage_clean = re.findall(r'\\b\\d+', mile)\n",
    "        mileage_final = tuple(mileage_clean)[0] + tuple(mileage_clean)[-1]\n",
    "        Mile.append(mileage_final)\n",
    "\n",
    "    \n",
    "        cont_price= container.findAll('div',attrs={'class','fieldPrice sizeC'})\n",
    "        price = cont_price[0].text\n",
    "        price_clean = re.findall(r'\\b\\d+', price)\n",
    "        price_merged = tuple(price_clean)[0]+tuple(price_clean)[1]\n",
    "        Price.append(price_merged)\n",
    "    \n",
    "        cont_seller= container.find('p',attrs={'class',\"txtBlack typeSeller hiddenPhone\"})\n",
    "        Seller_type.append(cont_seller.text)\n",
    "    \n",
    "\n",
    "mydf['make'] = make\n",
    "mydf['version'] = version\n",
    "mydf['model'] = model\n",
    "mydf['Year'] = Year\n",
    "mydf['mileage'] = Mile\n",
    "mydf['Price'] = Price\n",
    "mydf['Seller_type'] = Seller_type"
   ]
  },
  {
   "cell_type": "code",
   "execution_count": 6,
   "metadata": {},
   "outputs": [],
   "source": [
    "url_argus = \"https://www.lacentrale.fr/cote-auto-{}-{}-{}-{}.html\"\n",
    "\n",
    "def build_soup_from_url(url):\n",
    "    page = requests.get(url)\n",
    "    html = page.text\n",
    "    soup = bsoup(html,\"html.parser\")\n",
    "    return soup\n",
    "\n",
    "def get_argus(brand, model, version, Year):\n",
    "  \n",
    "    url = url_argus.format(brand.lower(), model.lower(), version.lower().replace(\" \", \"+\"), Year)\n",
    "    soup = build_soup_from_url(url)\n",
    "    argus = soup.find(\"span\", class_ = \"jsRefinedQuot\")\n",
    "    if argus is None:\n",
    "        argus = 0\n",
    "    else:\n",
    "        argus = argus.getText().replace(\" \", \"\").replace(\"€\",\"\")\n",
    "    return argus"
   ]
  },
  {
   "cell_type": "code",
   "execution_count": 7,
   "metadata": {},
   "outputs": [],
   "source": [
    "argus_list = []\n",
    "for i in range(len(mydf)):\n",
    "    brand = (mydf['make'][i])\n",
    "    model = (mydf['model'][i])\n",
    "    version = (mydf['version'][i])\n",
    "    Year = (mydf['Year'][i])\n",
    "    argus_list.append(get_argus(brand = brand,model = model,version= version,Year = Year))\n",
    "\n",
    "mydf['argus'] = argus_list\n",
    " "
   ]
  },
  {
   "cell_type": "code",
   "execution_count": 9,
   "metadata": {},
   "outputs": [
    {
     "name": "stdout",
     "output_type": "stream",
     "text": [
      "buy     76\n",
      "sell    67\n",
      "Name: reco, dtype: int64\n"
     ]
    }
   ],
   "source": [
    "import numpy as np\n",
    "mydf = mydf[(mydf[['argus']] != 0).all(axis=1)]\n",
    "\n",
    "# Calculate % difference between indicated price and argus price.\n",
    "mydf['%_difference'] = ((mydf['Price']).astype(float)/(mydf['argus']).astype(float))*100\n",
    "\n",
    "\n",
    "# Global overview of buying and selling opportunities based on argus prices.\n",
    "mydf['reco'] = np.where(mydf['%_difference']<100, 'buy', 'sell')\n",
    "print(mydf.reco.value_counts())"
   ]
  }
 ],
 "metadata": {
  "kernelspec": {
   "display_name": "Python 3",
   "language": "python",
   "name": "python3"
  },
  "language_info": {
   "codemirror_mode": {
    "name": "ipython",
    "version": 3
   },
   "file_extension": ".py",
   "mimetype": "text/x-python",
   "name": "python",
   "nbconvert_exporter": "python",
   "pygments_lexer": "ipython3",
   "version": "3.6.5"
  }
 },
 "nbformat": 4,
 "nbformat_minor": 2
}
